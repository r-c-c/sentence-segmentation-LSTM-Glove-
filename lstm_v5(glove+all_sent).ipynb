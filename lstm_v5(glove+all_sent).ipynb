{
 "cells": [
  {
   "cell_type": "code",
   "execution_count": 1,
   "id": "d942933c-ec1e-4d3c-ae86-cd28c610b2de",
   "metadata": {},
   "outputs": [],
   "source": [
    "import json\n",
    "import random\n",
    "import re\n",
    "import pandas as pd\n",
    "import numpy as np\n",
    "from copy import deepcopy\n",
    "from sklearn import model_selection\n",
    "import matplotlib.pyplot as plt\n",
    "from tensorflow.keras.preprocessing.text import Tokenizer\n",
    "import tensorflow as tf\n",
    "from tensorflow.keras import Model, Input\n",
    "from tensorflow.keras.layers import LSTM, Embedding, Dense\n",
    "from tensorflow.keras.layers import TimeDistributed, SpatialDropout1D, Bidirectional\n",
    "from tensorflow.keras.callbacks import ModelCheckpoint, EarlyStopping\n",
    "from livelossplot.tf_keras import PlotLossesCallback\n",
    "from tensorflow.keras.preprocessing.sequence import pad_sequences\n",
    "from tensorflow.keras.utils import to_categorical\n",
    "from sklearn.model_selection import train_test_split\n",
    "from itertools import chain\n",
    "from sklearn.metrics import classification_report, confusion_matrix\n",
    "import tensorflow_addons as tfa"
   ]
  },
  {
   "cell_type": "code",
   "execution_count": 2,
   "id": "1f8031fa-81c9-46cb-ade0-da37d7ca1caf",
   "metadata": {},
   "outputs": [],
   "source": [
    "df_train=pd.read_csv(\"train_set.csv\")\n",
    "df_test=pd.read_csv(\"test_set.csv\")\n",
    "df_val=pd.read_csv(\"val_set.csv\")"
   ]
  },
  {
   "cell_type": "code",
   "execution_count": 3,
   "id": "8bfce8c4-a16d-42c3-b0c4-16bc59e94c22",
   "metadata": {},
   "outputs": [],
   "source": [
    "tr_sents=df_train.txt.tolist()\n",
    "val_sents=df_val.txt.tolist()\n",
    "test_sents=df_test.txt.tolist()"
   ]
  },
  {
   "cell_type": "code",
   "execution_count": 4,
   "id": "54976a58-7a9c-4c2c-ad39-59cf76697837",
   "metadata": {},
   "outputs": [],
   "source": [
    "def generate_data(lines):\n",
    " \n",
    "    x, y = [], []       \n",
    "    for line in lines:\n",
    "        x.append([])\n",
    "        y.append([])\n",
    "        words = line.strip().split()\n",
    "        for word_i, word in enumerate(words):\n",
    "            x[-1].append(word)\n",
    "            label = 'O'\n",
    "            if word_i == 0:\n",
    "                label=\"B\"\n",
    "\n",
    "            y[-1].append(label)\n",
    "    x_,X,y_,Y=[],[],[],[]\n",
    "    \n",
    "    #total sentences\n",
    "    for i in range(0,len(x)-1,5):\n",
    "        x_.append(chain(*zip(x[i:i+5])))\n",
    "        y_.append(chain(*zip(y[i:i+5])))\n",
    "    for i in x_:\n",
    "        flat_list = [item for sublist in i for item in sublist]\n",
    "        X.append(flat_list)\n",
    "    for i in y_:\n",
    "        flat_list = [item for sublist in i for item in sublist]\n",
    "        Y.append(flat_list)\n",
    "    \n",
    "    return X, Y"
   ]
  },
  {
   "cell_type": "code",
   "execution_count": 7,
   "id": "88cf0485-ccdd-49d9-a8ab-9ff8237a907d",
   "metadata": {},
   "outputs": [],
   "source": [
    "#create biggest X\n",
    "corpus_fpath = \"all_sents.json\"\n",
    "X= json.load(open(corpus_fpath))\n",
    "X=[i.strip().split() for i in X]"
   ]
  },
  {
   "cell_type": "code",
   "execution_count": 8,
   "id": "a0996974-6ab4-44b9-8a30-fe2407b213a0",
   "metadata": {},
   "outputs": [
    {
     "data": {
      "text/plain": [
       "39908"
      ]
     },
     "execution_count": 8,
     "metadata": {},
     "output_type": "execute_result"
    }
   ],
   "source": [
    "len(X)"
   ]
  },
  {
   "cell_type": "code",
   "execution_count": 13,
   "id": "2ec3214b-ca2f-47de-9065-ffa963b8109e",
   "metadata": {},
   "outputs": [],
   "source": [
    "X_train,y_train=generate_data(tr_sents)\n",
    "X_valid,y_valid=generate_data(val_sents)\n",
    "X_test,y_test=generate_data(test_sents)"
   ]
  },
  {
   "cell_type": "code",
   "execution_count": 15,
   "id": "6687dca6-fe5b-4f65-b963-9092433afc78",
   "metadata": {},
   "outputs": [
    {
     "data": {
      "image/png": "[encoded data removed]",
      "text/plain": [
       "<Figure size 432x288 with 1 Axes>"
      ]
     },
     "metadata": {
      "needs_background": "light"
     },
     "output_type": "display_data"
    },
    {
     "name": "stdout",
     "output_type": "stream",
     "text": [
      "103.87418008348241\n",
      "261\n"
     ]
    }
   ],
   "source": [
    "lengths = [len(t) for t in X_train]\n",
    "max_length = max([len(t) for t in X_train])\n",
    "plt.hist(lengths, bins=len(set(lengths)))\n",
    "plt.show()\n",
    "print(sum(lengths) / len(lengths))\n",
    "print(max_length)"
   ]
  },
  {
   "cell_type": "code",
   "execution_count": 16,
   "id": "5c51ea3b-5905-4bd8-911c-5822e6ac1cd1",
   "metadata": {},
   "outputs": [
    {
     "name": "stdout",
     "output_type": "stream",
     "text": [
      "[[251, 262, 116344, 63, 133, 43478, 261, 133, 19349, 230, 235, 18563, 6662, 83, 156, 83, 83, 21, 66, 27, 2, 88, 3, 41, 92, 298, 139, 134, 312, 7, 2870, 3755, 2, 114, 117, 4, 13, 32, 9, 5, 82, 174, 197, 278]]\n",
      "['Citation', 'Nr:', '0634451', 'Decision', 'Date:', '11/07/06', 'Archive', 'Date:', '11/16/06', 'DOCKET', 'NO.', '03-11', '289', ')', 'DATE', ')', ')', 'On', 'appeal', 'from', 'the', 'Department', 'of', 'Veterans', 'Affairs', '(VA)', 'Regional', 'Office', '(RO)', 'in', 'Detroit,', 'Michigan', 'THE', 'ISSUE', 'Entitlement', 'to', 'service', 'connection', 'for', 'a', 'right', 'knee', 'disability.', 'REPRESENTATION']\n"
     ]
    }
   ],
   "source": [
    "#tokenizer\n",
    "\n",
    "tokenizer = Tokenizer(filters=None,oov_token=\"unk\")\n",
    "\n",
    "tokenizer.fit_on_texts(X)\n",
    "\n",
    "print(tokenizer.texts_to_sequences([X_train[0]]))\n",
    "print(X_train[0])"
   ]
  },
  {
   "cell_type": "code",
   "execution_count": 20,
   "id": "b1f15e1c-f7b4-460a-be02-27b1851cfd23",
   "metadata": {},
   "outputs": [],
   "source": [
    "vocab_length = len(tokenizer.word_index) + 1"
   ]
  },
  {
   "cell_type": "code",
   "execution_count": 18,
   "id": "92fee7ed-e59f-477f-9bab-ba35b956d6a6",
   "metadata": {},
   "outputs": [
    {
     "data": {
      "text/plain": [
       "'unk'"
      ]
     },
     "execution_count": 18,
     "metadata": {},
     "output_type": "execute_result"
    }
   ],
   "source": [
    "words=list(tokenizer.word_index)\n",
    "words[0]"
   ]
  },
  {
   "cell_type": "code",
   "execution_count": 19,
   "id": "c775e815-8007-4906-9436-0bfa9a1b521d",
   "metadata": {},
   "outputs": [
    {
     "data": {
      "text/plain": [
       "'stressors/sleep'"
      ]
     },
     "execution_count": 19,
     "metadata": {},
     "output_type": "execute_result"
    }
   ],
   "source": [
    "words[-1]"
   ]
  },
  {
   "cell_type": "code",
   "execution_count": 22,
   "id": "94f3cb70-b046-4437-945b-ab972a957901",
   "metadata": {},
   "outputs": [],
   "source": [
    "tokenizer.word_index[\"end_word\"]=vocab_length"
   ]
  },
  {
   "cell_type": "code",
   "execution_count": 23,
   "id": "e1b1403b-51da-40ed-8972-0d3619f47582",
   "metadata": {},
   "outputs": [],
   "source": [
    "words.append(\"end_word\")"
   ]
  },
  {
   "cell_type": "code",
   "execution_count": 24,
   "id": "4397463d-1ddf-41dd-b983-6d88a30de394",
   "metadata": {},
   "outputs": [],
   "source": [
    "def get_sequences(tokenizer, tweets):\n",
    "    sequences = tokenizer.texts_to_sequences(tweets)\n",
    "    padded_sequences = pad_sequences(sequences, truncating='post', maxlen=150, padding='post',value=vocab_length)\n",
    "    return padded_sequences"
   ]
  },
  {
   "cell_type": "code",
   "execution_count": 25,
   "id": "76c6fe76-01ca-4ca7-8c5f-bf90e716af10",
   "metadata": {},
   "outputs": [],
   "source": [
    "X_train_sequnces,X_valid_sequnces,X_test_sequnces=[],[],[]"
   ]
  },
  {
   "cell_type": "code",
   "execution_count": 26,
   "id": "cf1810a3-11d3-4a3c-bc90-e7dc1a1ddc67",
   "metadata": {},
   "outputs": [],
   "source": [
    "X_train_sequences = get_sequences(tokenizer, X_train)\n",
    "X_valid_sequences = get_sequences(tokenizer, X_valid)\n",
    "X_test_sequences = get_sequences(tokenizer, X_test)"
   ]
  },
  {
   "cell_type": "code",
   "execution_count": 27,
   "id": "a7760fa5-14cb-4fe3-ae30-dcc33aef3cff",
   "metadata": {},
   "outputs": [
    {
     "data": {
      "text/plain": [
       "(134, 150)"
      ]
     },
     "execution_count": 27,
     "metadata": {},
     "output_type": "execute_result"
    }
   ],
   "source": [
    "X_valid_sequences.shape"
   ]
  },
  {
   "cell_type": "code",
   "execution_count": 28,
   "id": "c4e62b53-d17a-40e9-a8fd-4a8abdedfb99",
   "metadata": {},
   "outputs": [],
   "source": [
    "classes = [\"B\",\"O\"]"
   ]
  },
  {
   "cell_type": "code",
   "execution_count": 29,
   "id": "c1c7b1c6-61b5-409d-b02a-9578d0864e51",
   "metadata": {},
   "outputs": [
    {
     "data": {
      "text/plain": [
       "{'B': 0, 'O': 1}"
      ]
     },
     "execution_count": 29,
     "metadata": {},
     "output_type": "execute_result"
    }
   ],
   "source": [
    "classes_to_index = dict((c, i) for i, c in enumerate(classes))\n",
    "classes_to_index"
   ]
  },
  {
   "cell_type": "code",
   "execution_count": 30,
   "id": "f78eeca9-b2c2-4982-aedf-425348f2a6bd",
   "metadata": {},
   "outputs": [],
   "source": [
    "y_train_s = [[classes_to_index.get(w) for w in s]for s in y_train]\n",
    "y_valid_s = [[classes_to_index.get(w) for w in s]for s in y_valid]\n",
    "y_test_s = [[classes_to_index.get(w) for w in s]for s in y_test]\n"
   ]
  },
  {
   "cell_type": "code",
   "execution_count": 31,
   "id": "aecdc460-9b90-43e1-819c-cdc60466c40e",
   "metadata": {},
   "outputs": [
    {
     "data": {
      "text/plain": [
       "(134, 150)"
      ]
     },
     "execution_count": 31,
     "metadata": {},
     "output_type": "execute_result"
    }
   ],
   "source": [
    "X_valid_sequences.shape"
   ]
  },
  {
   "cell_type": "code",
   "execution_count": 32,
   "id": "36833baa-53d8-4720-835e-926ac527929f",
   "metadata": {},
   "outputs": [],
   "source": [
    "y_train_sequences = pad_sequences(maxlen = 150 , sequences =y_train_s, padding='post',value=1)\n",
    "y_valid_sequences=pad_sequences(maxlen = 150 , sequences =y_valid_s, padding='post',value=1)\n",
    "y_test_sequences=pad_sequences(maxlen = 150 , sequences =y_test_s, padding='post',value=1)"
   ]
  },
  {
   "cell_type": "code",
   "execution_count": 33,
   "id": "29a6fc54-763b-439d-b043-878d815a4895",
   "metadata": {},
   "outputs": [],
   "source": [
    "#one hot encoding\n",
    "y_train_sequences = [to_categorical(i, num_classes=2) for i in y_train_sequences]\n",
    "y_valid_sequences = [to_categorical(i, num_classes=2) for i in y_valid_sequences]\n",
    "y_test_sequences = [to_categorical(i, num_classes=2) for i in y_test_sequences]"
   ]
  },
  {
   "cell_type": "code",
   "execution_count": 34,
   "id": "738d7ca7-aca5-4f03-8c48-59010fc36b55",
   "metadata": {},
   "outputs": [
    {
     "data": {
      "text/plain": [
       "(150, 2)"
      ]
     },
     "execution_count": 34,
     "metadata": {},
     "output_type": "execute_result"
    }
   ],
   "source": [
    "y_valid_sequences[0].shape"
   ]
  },
  {
   "cell_type": "code",
   "execution_count": 35,
   "id": "da8adc31-b35b-4441-a0a9-13b6f0967692",
   "metadata": {},
   "outputs": [],
   "source": [
    "from numpy import array,asarray,zeros\n",
    "\n",
    "embeddings_dictionary = dict()\n",
    "glove_file = open('glove.6B/glove.6B.300d.txt', encoding=\"utf8\")"
   ]
  },
  {
   "cell_type": "code",
   "execution_count": 36,
   "id": "21cae63d-42f5-4a7e-b72f-6ea9cc22a0e6",
   "metadata": {},
   "outputs": [],
   "source": [
    "for line in glove_file:\n",
    "    records = line.split()\n",
    "    word = records[0]\n",
    "    vector_dimensions = asarray(records[1:], dtype='float32')\n",
    "    embeddings_dictionary [word] = vector_dimensions\n",
    "\n",
    "glove_file.close()"
   ]
  },
  {
   "cell_type": "code",
   "execution_count": 42,
   "id": "ca6c0b03-cbcd-40a9-8ffc-ef991da01e1c",
   "metadata": {},
   "outputs": [],
   "source": [
    "embedding_matrix = zeros((vocab_length+1, 300))\n",
    "for word, index in tokenizer.word_index.items():\n",
    "    embedding_vector = embeddings_dictionary.get(word)\n",
    "    if embedding_vector is not None:\n",
    "        embedding_matrix[index] = embedding_vector"
   ]
  },
  {
   "cell_type": "code",
   "execution_count": 43,
   "id": "485c545b-1f04-4949-933c-9a41bf2b114a",
   "metadata": {},
   "outputs": [],
   "source": [
    "#embedding_layer = Embedding(vocab_length, 100, weights=[embedding_matrix], input_length=length_long_sentence, trainable=False)"
   ]
  },
  {
   "cell_type": "code",
   "execution_count": 104,
   "id": "8e39b619-8f96-4d43-82cd-fdb3d327bc26",
   "metadata": {},
   "outputs": [
    {
     "name": "stdout",
     "output_type": "stream",
     "text": [
      "Model: \"functional_11\"\n",
      "_________________________________________________________________\n",
      "Layer (type)                 Output Shape              Param #   \n",
      "=================================================================\n",
      "input_8 (InputLayer)         [(None, 150)]             0         \n",
      "_________________________________________________________________\n",
      "embedding_6 (Embedding)      (None, 150, 300)          73161900  \n",
      "_________________________________________________________________\n",
      "spatial_dropout1d_5 (Spatial (None, 150, 300)          0         \n",
      "_________________________________________________________________\n",
      "bidirectional_5 (Bidirection (None, 150, 200)          320800    \n",
      "_________________________________________________________________\n",
      "time_distributed_5 (TimeDist (None, 150, 2)            402       \n",
      "=================================================================\n",
      "Total params: 73,483,102\n",
      "Trainable params: 73,483,102\n",
      "Non-trainable params: 0\n",
      "_________________________________________________________________\n"
     ]
    }
   ],
   "source": [
    "input_word = Input(shape = (150,))\n",
    "model = Embedding(vocab_length+1,output_dim=300, weights=[embedding_matrix],input_length=32)(input_word)\n",
    "model = SpatialDropout1D(0.1)(model)\n",
    "model = Bidirectional(LSTM(units=100, return_sequences=True, recurrent_dropout=0.1))(model)\n",
    "out = TimeDistributed(Dense(2,activation='sigmoid'))(model)\n",
    "model = Model(input_word,out)\n",
    "model.compile(optimizer=tfa.optimizers.Yogi(),loss=tfa.losses.SigmoidFocalCrossEntropy(),metrics=[tf.keras.metrics.BinaryAccuracy(),tf.keras.metrics.Precision(), tf.keras.metrics.Recall()])\n",
    "#model.compile(optimizer=\"adam\",loss=tfa.losses.SigmoidFocalCrossEntropy(),metrics=[tf.keras.metrics.BinaryAccuracy(),tf.keras.metrics.Precision(), tf.keras.metrics.Recall()])\n",
    "model.summary()"
   ]
  },
  {
   "cell_type": "code",
   "execution_count": 105,
   "id": "aa8be510-5ac2-41ba-9392-05589205cbfa",
   "metadata": {},
   "outputs": [
    {
     "data": {
      "image/png": "[encoded data removed]",
      "text/plain": [
       "<Figure size 864x864 with 4 Axes>"
      ]
     },
     "metadata": {
      "needs_background": "light"
     },
     "output_type": "display_data"
    },
    {
     "name": "stdout",
     "output_type": "stream",
     "text": [
      "binary_accuracy\n",
      "\ttraining         \t (min:    0.936, max:    0.994, cur:    0.994)\n",
      "\tvalidation       \t (min:    0.967, max:    0.991, cur:    0.991)\n",
      "Loss\n",
      "\ttraining         \t (min:    0.004, max:    0.043, cur:    0.004)\n",
      "\tvalidation       \t (min:    0.010, max:    0.020, cur:    0.010)\n",
      "precision_5\n",
      "\ttraining         \t (min:    0.967, max:    0.996, cur:    0.996)\n",
      "\tvalidation       \t (min:    0.987, max:    0.994, cur:    0.994)\n",
      "recall_5\n",
      "\ttraining         \t (min:    0.902, max:    0.991, cur:    0.991)\n",
      "\tvalidation       \t (min:    0.945, max:    0.987, cur:    0.987)\n",
      "27/27 [==============================] - 47s 2s/step - loss: 0.0045 - binary_accuracy: 0.9937 - precision_5: 0.9965 - recall_5: 0.9910 - val_loss: 0.0096 - val_binary_accuracy: 0.9906 - val_precision_5: 0.9938 - val_recall_5: 0.9873\n"
     ]
    }
   ],
   "source": [
    "#early_stopping = EarlyStopping(monitor='val_accuracy',patience=1,verbose=0,mode='max',restore_best_weights=False)\n",
    "callbacks = [PlotLossesCallback()]#,early_stopping]\n",
    "\n",
    "#imbalanced dataset:\n",
    "\n",
    "\n",
    "history = model.fit(\n",
    "    X_train_sequences,np.array(y_train_sequences),\n",
    "    validation_data =(X_valid_sequences,np.array(y_valid_sequences)) ,\n",
    "    batch_size = 64,\n",
    "    epochs = 12,\n",
    "    verbose = 1,\n",
    "    callbacks=callbacks\n",
    ")"
   ]
  },
  {
   "cell_type": "code",
   "execution_count": 106,
   "id": "0c871b01-df11-4a64-954a-64658cd0d301",
   "metadata": {},
   "outputs": [
    {
     "name": "stdout",
     "output_type": "stream",
     "text": [
      "6/6 [==============================] - 2s 257ms/step - loss: 0.0129 - binary_accuracy: 0.9876 - precision_5: 0.9920 - recall_5: 0.9831\n"
     ]
    },
    {
     "data": {
      "text/plain": [
       "[0.01290600374341011,\n",
       " 0.9875828623771667,\n",
       " 0.9919751286506653,\n",
       " 0.9831188917160034]"
      ]
     },
     "execution_count": 106,
     "metadata": {},
     "output_type": "execute_result"
    }
   ],
   "source": [
    "model.evaluate(X_test_sequences, np.array(y_test_sequences))"
   ]
  },
  {
   "cell_type": "code",
   "execution_count": 107,
   "id": "2259492f-15ac-4fab-8b5b-b51110d459b2",
   "metadata": {},
   "outputs": [
    {
     "name": "stdout",
     "output_type": "stream",
     "text": [
      "Word           True \t Pred\n",
      "\n",
      "------------------------------\n",
      "the            B    \tB\n",
      "preponderance  O    \tO\n",
      "of             O    \tO\n",
      "the            O    \tO\n",
      "evidence       O    \tO\n",
      "must           O    \tO\n",
      "be             O    \tO\n",
      "against        O    \tO\n",
      "the            O    \tO\n",
      "claim          O    \tO\n",
      "for            O    \tO\n",
      "benefits       O    \tO\n",
      "to             O    \tO\n",
      "be             O    \tO\n",
      "denied.        O    \tO\n",
      "see            B    \tB\n",
      "alemany        O    \tO\n",
      "v.             O    \tO\n",
      "brown,         O    \tO\n",
      "9              O    \tO\n",
      "vet.           O    \tO\n",
      "app.           O    \tO\n",
      "518            O    \tO\n",
      "(1996).        O    \tO\n",
      "analysis       B    \tB\n",
      "the            B    \tB\n",
      "veteran        O    \tO\n",
      "contends       O    \tO\n",
      "that           O    \tO\n",
      "he             O    \tO\n",
      "developed      O    \tO\n",
      "sleep          O    \tO\n",
      "apnea          O    \tO\n",
      "when           O    \tO\n",
      "he             O    \tO\n",
      "was            O    \tO\n",
      "deployed       O    \tO\n",
      "to             O    \tO\n",
      "afghanistan    O    \tO\n",
      "from           O    \tO\n",
      "2008           O    \tO\n",
      "to             O    \tO\n",
      "2009.          O    \tO\n",
      "see            B    \tB\n",
      "the            O    \tO\n",
      "november       O    \tO\n",
      "2013           O    \tO\n",
      "va             O    \tO\n",
      "form           O    \tO\n",
      "9.             O    \tO\n",
      "end_word       O    \tO\n",
      "end_word       O    \tO\n",
      "end_word       O    \tO\n",
      "end_word       O    \tO\n",
      "end_word       O    \tO\n",
      "end_word       O    \tO\n",
      "end_word       O    \tO\n",
      "end_word       O    \tO\n",
      "end_word       O    \tO\n",
      "end_word       O    \tO\n",
      "end_word       O    \tO\n",
      "end_word       O    \tO\n",
      "end_word       O    \tO\n",
      "end_word       O    \tO\n",
      "end_word       O    \tO\n",
      "end_word       O    \tO\n",
      "end_word       O    \tO\n",
      "end_word       O    \tO\n",
      "end_word       O    \tO\n",
      "end_word       O    \tO\n",
      "end_word       O    \tO\n",
      "end_word       O    \tO\n",
      "end_word       O    \tO\n",
      "end_word       O    \tO\n",
      "end_word       O    \tO\n",
      "end_word       O    \tO\n",
      "end_word       O    \tO\n",
      "end_word       O    \tO\n",
      "end_word       O    \tO\n",
      "end_word       O    \tO\n",
      "end_word       O    \tO\n",
      "end_word       O    \tO\n",
      "end_word       O    \tO\n",
      "end_word       O    \tO\n",
      "end_word       O    \tO\n",
      "end_word       O    \tO\n",
      "end_word       O    \tO\n",
      "end_word       O    \tO\n",
      "end_word       O    \tO\n",
      "end_word       O    \tO\n",
      "end_word       O    \tO\n",
      "end_word       O    \tO\n",
      "end_word       O    \tO\n",
      "end_word       O    \tO\n",
      "end_word       O    \tO\n",
      "end_word       O    \tO\n",
      "end_word       O    \tO\n",
      "end_word       O    \tO\n",
      "end_word       O    \tO\n",
      "end_word       O    \tO\n",
      "end_word       O    \tO\n",
      "end_word       O    \tO\n",
      "end_word       O    \tO\n",
      "end_word       O    \tO\n",
      "end_word       O    \tO\n",
      "end_word       O    \tO\n",
      "end_word       O    \tO\n",
      "end_word       O    \tO\n",
      "end_word       O    \tO\n",
      "end_word       O    \tO\n",
      "end_word       O    \tO\n",
      "end_word       O    \tO\n",
      "end_word       O    \tO\n",
      "end_word       O    \tO\n",
      "end_word       O    \tO\n",
      "end_word       O    \tO\n",
      "end_word       O    \tO\n",
      "end_word       O    \tO\n",
      "end_word       O    \tO\n",
      "end_word       O    \tO\n",
      "end_word       O    \tO\n",
      "end_word       O    \tO\n",
      "end_word       O    \tO\n",
      "end_word       O    \tO\n",
      "end_word       O    \tO\n",
      "end_word       O    \tO\n",
      "end_word       O    \tO\n",
      "end_word       O    \tO\n",
      "end_word       O    \tO\n",
      "end_word       O    \tO\n",
      "end_word       O    \tO\n",
      "end_word       O    \tO\n",
      "end_word       O    \tO\n",
      "end_word       O    \tO\n",
      "end_word       O    \tO\n",
      "end_word       O    \tO\n",
      "end_word       O    \tO\n",
      "end_word       O    \tO\n",
      "end_word       O    \tO\n",
      "end_word       O    \tO\n",
      "end_word       O    \tO\n",
      "end_word       O    \tO\n",
      "end_word       O    \tO\n",
      "end_word       O    \tO\n",
      "end_word       O    \tO\n",
      "end_word       O    \tO\n",
      "end_word       O    \tO\n",
      "end_word       O    \tO\n",
      "end_word       O    \tO\n",
      "end_word       O    \tO\n"
     ]
    }
   ],
   "source": [
    "i = np.random.randint(0, X_test_sequences.shape[0])\n",
    "p = model.predict(np.array([X_test_sequences[i]]))\n",
    "p = np.argmax(p, axis=-1)\n",
    "\n",
    "y_true = np.argmax(np.array(y_test_sequences), axis=-1)[i]\n",
    "print(\"{:15}{:5}\\t {}\\n\".format(\"Word\",\"True\",\"Pred\"))\n",
    "print(\"-\"*30)\n",
    "for w,true,pred in zip(X_test_sequences[i], y_true, p[0]):\n",
    "  print(\"{:15}{:5}\\t{}\".format(words[w-1], classes[true],classes[pred]))"
   ]
  },
  {
   "cell_type": "code",
   "execution_count": 108,
   "id": "5984092f-0dee-44ed-8215-6a1ac71f82c5",
   "metadata": {},
   "outputs": [],
   "source": [
    "Y_pred = model.predict(np.array(X_test_sequences))\n",
    "y_pred = np.array([np.argmax(pred,axis=-1) for pred in Y_pred])"
   ]
  },
  {
   "cell_type": "code",
   "execution_count": 109,
   "id": "0efff04f-21d5-4cbf-9b46-5ac572b65d62",
   "metadata": {},
   "outputs": [],
   "source": [
    "probs=Y_pred.max(axis=-1).ravel()"
   ]
  },
  {
   "cell_type": "code",
   "execution_count": 110,
   "id": "6dc65fcb-c6ee-40fc-a812-da41e12836e9",
   "metadata": {},
   "outputs": [],
   "source": [
    "y_true=[]"
   ]
  },
  {
   "cell_type": "code",
   "execution_count": 111,
   "id": "8056dd17-253a-41cb-9468-2fa31c481b06",
   "metadata": {},
   "outputs": [],
   "source": [
    "for i in range(0,171):\n",
    "    y_true.append(np.argmax(np.array(y_test_sequences), axis=-1)[i])"
   ]
  },
  {
   "cell_type": "code",
   "execution_count": 112,
   "id": "1f18f91e-c400-4c65-be91-90c0c8a095af",
   "metadata": {},
   "outputs": [],
   "source": [
    "f_y_test = list(chain.from_iterable(y_true))\n",
    "f_pred_y = list(chain.from_iterable(y_pred))"
   ]
  },
  {
   "cell_type": "code",
   "execution_count": 113,
   "id": "2bf6e0eb-3ce8-491b-ba77-0912c5a94a05",
   "metadata": {},
   "outputs": [],
   "source": [
    "array=confusion_matrix(f_y_test, f_pred_y)"
   ]
  },
  {
   "cell_type": "code",
   "execution_count": 114,
   "id": "c8f7e0b8-f932-4a35-b172-fae68264d820",
   "metadata": {},
   "outputs": [
    {
     "data": {
      "text/plain": [
       "<AxesSubplot:>"
      ]
     },
     "execution_count": 114,
     "metadata": {},
     "output_type": "execute_result"
    },
    {
     "data": {
      "image/png": "[encoded data removed]",
      "text/plain": [
       "<Figure size 720x504 with 2 Axes>"
      ]
     },
     "metadata": {
      "needs_background": "light"
     },
     "output_type": "display_data"
    }
   ],
   "source": [
    "import seaborn as sn\n",
    "import pandas as pd\n",
    "import matplotlib.pyplot as plt\n",
    "\n",
    "df_cm = pd.DataFrame(array, index = [i for i in classes],\n",
    "                  columns = [i for i in classes])\n",
    "plt.figure(figsize = (10,7))\n",
    "sn.heatmap(df_cm, annot=True,cmap='Blues', fmt='g')"
   ]
  },
  {
   "cell_type": "code",
   "execution_count": 115,
   "id": "8b0d3fa2-b8b2-4092-9151-c00d76dde088",
   "metadata": {},
   "outputs": [
    {
     "name": "stdout",
     "output_type": "stream",
     "text": [
      "              precision    recall  f1-score   support\n",
      "\n",
      "           0       0.85      0.75      0.80       819\n",
      "           1       0.99      1.00      0.99     24831\n",
      "\n",
      "    accuracy                           0.99     25650\n",
      "   macro avg       0.92      0.87      0.90     25650\n",
      "weighted avg       0.99      0.99      0.99     25650\n",
      "\n"
     ]
    }
   ],
   "source": [
    "print(classification_report(f_y_test, f_pred_y))"
   ]
  },
  {
   "cell_type": "code",
   "execution_count": null,
   "id": "6341fc75-2df5-4442-9b1e-def6a8c27e6c",
   "metadata": {},
   "outputs": [],
   "source": []
  }
 ],
 "metadata": {
  "kernelspec": {
   "display_name": "Python 3",
   "language": "python",
   "name": "python3"
  },
  "language_info": {
   "codemirror_mode": {
    "name": "ipython",
    "version": 3
   },
   "file_extension": ".py",
   "mimetype": "text/x-python",
   "name": "python",
   "nbconvert_exporter": "python",
   "pygments_lexer": "ipython3",
   "version": "3.8.8"
  }
 },
 "nbformat": 4,
 "nbformat_minor": 5
}
